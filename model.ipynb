{
 "cells": [
  {
   "cell_type": "code",
   "execution_count": 2,
   "metadata": {},
   "outputs": [
    {
     "name": "stdout",
     "output_type": "stream",
     "text": [
      "Collecting termcolor\n",
      "  Downloading termcolor-1.1.0.tar.gz (3.9 kB)\n",
      "Building wheels for collected packages: termcolor\n",
      "  Building wheel for termcolor (setup.py): started\n",
      "  Building wheel for termcolor (setup.py): finished with status 'done'\n",
      "  Created wheel for termcolor: filename=termcolor-1.1.0-py3-none-any.whl size=4835 sha256=15cf7518990f3230c69fe949d25f3a0aa1b6b142c26ee809b7470ebe6046efec\n",
      "  Stored in directory: c:\\users\\lenovo\\appdata\\local\\pip\\cache\\wheels\\3f\\e3\\ec\\8a8336ff196023622fbcb36de0c5a5c218cbb24111d1d4c7f2\n",
      "Successfully built termcolor\n",
      "Installing collected packages: termcolor\n",
      "Successfully installed termcolor-1.1.0\n",
      "Note: you may need to restart the kernel to use updated packages.\n"
     ]
    }
   ],
   "source": [
    "pip install termcolor\n"
   ]
  },
  {
   "cell_type": "raw",
   "metadata": {},
   "source": [
    "---\n",
    "title: Classification - Random Forest Analysis\n",
    "description: My first notebook in Mercury\n",
    "show-code: False\n",
    "params:\n",
    "    n_estimators:\n",
    "        label: Number of trees in the forest\n",
    "        input: slider\n",
    "        value: 100\n",
    "        min: 10\n",
    "        max: 200\n",
    "    max_depth:\n",
    "        label: The maximum depth of the tree\n",
    "        input: slider\n",
    "        value: 1\n",
    "        min: 1\n",
    "        max: 6\n",
    "    bootstrap:\n",
    "        label: Bootstrap\n",
    "        input: checkbox\n",
    "        value: True\n",
    "    metrics_list:\n",
    "        label: Choose the metrics evaluation plot\n",
    "        input: select\n",
    "        value: Confusion Matrix\n",
    "        choices: [Confusion Matrix, ROC Curve, Precision-Recall Curve]\n",
    "        multi: True\n",
    "---"
   ]
  },
  {
   "cell_type": "code",
   "execution_count": 3,
   "metadata": {},
   "outputs": [],
   "source": [
    "import pandas as pd\n",
    "import numpy as np\n",
    "import matplotlib.pyplot as plt\n",
    "from sklearn.ensemble import RandomForestClassifier\n",
    "from sklearn.preprocessing import LabelEncoder\n",
    "from sklearn.model_selection import train_test_split\n",
    "from sklearn.metrics import plot_confusion_matrix, plot_roc_curve, plot_precision_recall_curve\n",
    "from sklearn.metrics import precision_score, recall_score, accuracy_score\n",
    "from termcolor import colored\n",
    "import warnings\n",
    "warnings.filterwarnings(\"ignore\")"
   ]
  },
  {
   "cell_type": "code",
   "execution_count": 4,
   "metadata": {},
   "outputs": [],
   "source": [
    "n_estimators = 100\n",
    "max_depth = 1\n",
    "bootstrap = 'True'\n",
    "metrics_list = 'Confusion Matrix'"
   ]
  },
  {
   "cell_type": "code",
   "execution_count": 18,
   "metadata": {},
   "outputs": [
    {
     "name": "stdout",
     "output_type": "stream",
     "text": [
      "\u001b[1m\u001b[32mOverview of Dataset\u001b[0m\n"
     ]
    }
   ],
   "source": [
    "data = pd.read_csv('file1.csv')\n",
    "print(colored('Overview of Dataset', 'green', attrs=['bold']))\n",
    "def load_data():\n",
    "    label = LabelEncoder()\n",
    "    for col in data.columns:\n",
    "        data[col] = label.fit_transform(data[col])\n",
    "    return data\n",
    "def split(df):\n",
    "    x= df[['nor_age_first_funding_year', 'nor_age_last_funding_year', \n",
    "            'nor_age_first_milestone_year', 'nor_age_last_milestone_year', 'nor_relationships',\n",
    "            'nor_funding_rounds', 'nor_funding_total_usd', 'nor_milestones', 'is_CA', 'is_NY',\n",
    "            'is_MA', 'is_TX', 'is_otherstate', 'is_software', 'is_web', 'is_mobile', \n",
    "            'is_enterprise', 'is_advertising', 'is_gamesvideo', 'is_ecommerce', 'is_biotech', \n",
    "            'is_consulting', 'is_othercategory', 'has_VC', 'has_angel', 'has_roundA', 'has_roundB', \n",
    "            'has_roundC', 'has_roundD', 'nor_avg_participants', 'is_top500', 'nor_age']]\n",
    "    y = df['labels']\n",
    "    x_train, x_test, y_train, y_test = train_test_split(x,y,test_size=0.3,random_state=0)  \n",
    "    return x_train, x_test, y_train, y_test\n",
    "def plot_metrics(metrics_list):\n",
    "        if 'Confusion Matrix' in metrics_list:\n",
    "            plot_confusion_matrix(model, x_test, y_test, display_labels=class_names)\n",
    "            plt.title(\"Confusion Matrix\")\n",
    "            plt.show()\n",
    "        if 'ROC Curve' in metrics_list:\n",
    "            plot_roc_curve(model, x_test, y_test)\n",
    "            plt.title(\"ROC Curve\")\n",
    "            plt.show()\n",
    "        if 'Precision-Recall Curve' in metrics_list:\n",
    "            plot_precision_recall_curve(model, x_test, y_test)\n",
    "            plt.title(\"Precision-Recall Curve\")\n",
    "            plt.show()"
   ]
  },
  {
   "cell_type": "code",
   "execution_count": 20,
   "metadata": {},
   "outputs": [],
   "source": [
    "df = load_data()\n",
    "x_train, x_test, y_train,y_test = split(df)\n",
    "class_names = [1, 0]"
   ]
  },
  {
   "cell_type": "code",
   "execution_count": 21,
   "metadata": {},
   "outputs": [],
   "source": [
    "model = RandomForestClassifier(n_estimators=n_estimators, max_depth=max_depth,bootstrap=bootstrap,n_jobs=-1)\n",
    "model.fit(x_train,y_train)\n",
    "y_pred = model.predict(x_test)"
   ]
  },
  {
   "cell_type": "code",
   "execution_count": 22,
   "metadata": {},
   "outputs": [
    {
     "name": "stdout",
     "output_type": "stream",
     "text": [
      "Accuracy:  0.69\n"
     ]
    }
   ],
   "source": [
    "print(\"Accuracy: \", accuracy_score(y_test,y_pred).round(2))"
   ]
  },
  {
   "cell_type": "code",
   "execution_count": 23,
   "metadata": {},
   "outputs": [
    {
     "name": "stdout",
     "output_type": "stream",
     "text": [
      "Precison:  0.68\n",
      "Recall:  0.99\n"
     ]
    },
    {
     "data": {
      "image/png": "[encoded data removed]",
      "text/plain": [
       "<Figure size 432x288 with 2 Axes>"
      ]
     },
     "metadata": {
      "needs_background": "light"
     },
     "output_type": "display_data"
    }
   ],
   "source": [
    "print(\"Precison: \", precision_score(y_test, y_pred, labels=class_names).round(2))\n",
    "print(\"Recall: \",recall_score(y_test, y_pred, labels=class_names).round(2))\n",
    "plot_metrics(metrics_list)"
   ]
  },
  {
   "cell_type": "code",
   "execution_count": null,
   "metadata": {},
   "outputs": [],
   "source": []
  }
 ],
 "metadata": {
  "kernelspec": {
   "display_name": "Python 3",
   "language": "python",
   "name": "python3"
  },
  "language_info": {
   "codemirror_mode": {
    "name": "ipython",
    "version": 3
   },
   "file_extension": ".py",
   "mimetype": "text/x-python",
   "name": "python",
   "nbconvert_exporter": "python",
   "pygments_lexer": "ipython3",
   "version": "3.7.6"
  }
 },
 "nbformat": 4,
 "nbformat_minor": 4
}
